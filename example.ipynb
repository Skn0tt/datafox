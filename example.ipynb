{
 "cells": [
  {
   "cell_type": "code",
   "execution_count": 1,
   "metadata": {},
   "outputs": [],
   "source": [
    "import pandas as pd"
   ]
  },
  {
   "cell_type": "code",
   "execution_count": 2,
   "metadata": {},
   "outputs": [],
   "source": [
    "iris_df = pd.read_csv(\n",
    "    \"https://raw.githubusercontent.com/mwaskom/seaborn-data/master/iris.csv\"\n",
    ")"
   ]
  },
  {
   "cell_type": "code",
   "execution_count": 3,
   "metadata": {},
   "outputs": [
    {
     "data": {
      "text/html": [
       "\n",
       "<h1>Reports:</h1>\n",
       "<ul>\n",
       "    <li>sepal_width: expected values to be at most 3, but found 4.4</li>\n",
       "</ul>\n"
      ],
      "text/plain": [
       "\n",
       "- sepal_width: expected values to be at most 3, but found 4.4"
      ]
     },
     "execution_count": 3,
     "metadata": {},
     "output_type": "execute_result"
    }
   ],
   "source": [
    "import datafox\n",
    "\n",
    "iris_test = datafox.test(iris_df)\n",
    "iris_test.sepal_width.should.be_normal()\n",
    "iris_test.sepal_width.should.be_between(minimum=0, maximum=3)"
   ]
  }
 ],
 "metadata": {
  "interpreter": {
   "hash": "cc416a5dbf69cf6e29105758936cf6ff571c65b6ce3720595a25c9c6ca777620"
  },
  "kernelspec": {
   "display_name": "Python 3.8.13 ('env': venv)",
   "language": "python",
   "name": "python3"
  },
  "language_info": {
   "codemirror_mode": {
    "name": "ipython",
    "version": 3
   },
   "file_extension": ".py",
   "mimetype": "text/x-python",
   "name": "python",
   "nbconvert_exporter": "python",
   "pygments_lexer": "ipython3",
   "version": "3.8.13"
  },
  "orig_nbformat": 4
 },
 "nbformat": 4,
 "nbformat_minor": 2
}
